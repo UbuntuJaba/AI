{
  "cells": [
    {
      "cell_type": "code",
      "execution_count": 119,
      "metadata": {
        "colab": {
          "base_uri": "https://localhost:8080/",
          "height": 473
        },
        "id": "_WNsIyLtwr1P",
        "outputId": "b7693bda-2bf5-4513-9360-9aff9f21f780"
      },
      "outputs": [
        {
          "data": {
            "text/html": [
              "<div>\n",
              "<style scoped>\n",
              "    .dataframe tbody tr th:only-of-type {\n",
              "        vertical-align: middle;\n",
              "    }\n",
              "\n",
              "    .dataframe tbody tr th {\n",
              "        vertical-align: top;\n",
              "    }\n",
              "\n",
              "    .dataframe thead th {\n",
              "        text-align: right;\n",
              "    }\n",
              "</style>\n",
              "<table border=\"1\" class=\"dataframe\">\n",
              "  <thead>\n",
              "    <tr style=\"text-align: right;\">\n",
              "      <th></th>\n",
              "      <th>Pokemon No.</th>\n",
              "      <th>Name</th>\n",
              "      <th>Type 1</th>\n",
              "      <th>Type 2</th>\n",
              "      <th>MaxCP</th>\n",
              "      <th>MaxHP</th>\n",
              "      <th>Image URL</th>\n",
              "    </tr>\n",
              "  </thead>\n",
              "  <tbody>\n",
              "    <tr>\n",
              "      <th>0</th>\n",
              "      <td>1</td>\n",
              "      <td>Bulbasaur</td>\n",
              "      <td>Grass</td>\n",
              "      <td>Poison</td>\n",
              "      <td>1079</td>\n",
              "      <td>83</td>\n",
              "      <td>http://cdn.bulbagarden.net/upload/thumb/2/21/0...</td>\n",
              "    </tr>\n",
              "    <tr>\n",
              "      <th>1</th>\n",
              "      <td>2</td>\n",
              "      <td>Ivysaur</td>\n",
              "      <td>Grass</td>\n",
              "      <td>Poison</td>\n",
              "      <td>1643</td>\n",
              "      <td>107</td>\n",
              "      <td>http://cdn.bulbagarden.net/upload/thumb/7/73/0...</td>\n",
              "    </tr>\n",
              "    <tr>\n",
              "      <th>2</th>\n",
              "      <td>3</td>\n",
              "      <td>Venusaur</td>\n",
              "      <td>Grass</td>\n",
              "      <td>Poison</td>\n",
              "      <td>2598</td>\n",
              "      <td>138</td>\n",
              "      <td>http://cdn.bulbagarden.net/upload/thumb/a/ae/0...</td>\n",
              "    </tr>\n",
              "    <tr>\n",
              "      <th>3</th>\n",
              "      <td>4</td>\n",
              "      <td>Charmander</td>\n",
              "      <td>Fire</td>\n",
              "      <td>NaN</td>\n",
              "      <td>962</td>\n",
              "      <td>73</td>\n",
              "      <td>http://cdn.bulbagarden.net/upload/thumb/7/73/0...</td>\n",
              "    </tr>\n",
              "    <tr>\n",
              "      <th>4</th>\n",
              "      <td>5</td>\n",
              "      <td>Charmeleon</td>\n",
              "      <td>Fire</td>\n",
              "      <td>NaN</td>\n",
              "      <td>1568</td>\n",
              "      <td>103</td>\n",
              "      <td>http://cdn.bulbagarden.net/upload/thumb/4/4a/0...</td>\n",
              "    </tr>\n",
              "  </tbody>\n",
              "</table>\n",
              "</div>"
            ],
            "text/plain": [
              "   Pokemon No.        Name Type 1  Type 2  MaxCP  MaxHP  \\\n",
              "0            1   Bulbasaur  Grass  Poison   1079     83   \n",
              "1            2     Ivysaur  Grass  Poison   1643    107   \n",
              "2            3    Venusaur  Grass  Poison   2598    138   \n",
              "3            4  Charmander   Fire     NaN    962     73   \n",
              "4            5  Charmeleon   Fire     NaN   1568    103   \n",
              "\n",
              "                                           Image URL  \n",
              "0  http://cdn.bulbagarden.net/upload/thumb/2/21/0...  \n",
              "1  http://cdn.bulbagarden.net/upload/thumb/7/73/0...  \n",
              "2  http://cdn.bulbagarden.net/upload/thumb/a/ae/0...  \n",
              "3  http://cdn.bulbagarden.net/upload/thumb/7/73/0...  \n",
              "4  http://cdn.bulbagarden.net/upload/thumb/4/4a/0...  "
            ]
          },
          "execution_count": 119,
          "metadata": {},
          "output_type": "execute_result"
        }
      ],
      "source": [
        "import pandas as pd \n",
        "import numpy as np \n",
        "df = pd.read_csv(\"pokemonGO.csv\") \n",
        "df.head() "
      ]
    },
    {
      "cell_type": "markdown",
      "metadata": {
        "id": "o2OXU2nx3o--"
      },
      "source": [
        "Характеристики датасета"
      ]
    },
    {
      "cell_type": "code",
      "execution_count": 120,
      "metadata": {
        "colab": {
          "base_uri": "https://localhost:8080/"
        },
        "id": "jRX3h4Xu3P5L",
        "outputId": "5090ff50-f10c-4203-bc44-99ce73999efd"
      },
      "outputs": [
        {
          "data": {
            "text/plain": [
              "(151, 7)"
            ]
          },
          "execution_count": 120,
          "metadata": {},
          "output_type": "execute_result"
        }
      ],
      "source": [
        "df.shape # размерность\n"
      ]
    },
    {
      "cell_type": "code",
      "execution_count": 121,
      "metadata": {
        "colab": {
          "base_uri": "https://localhost:8080/"
        },
        "id": "oVJ09k4O3nxJ",
        "outputId": "232273cb-1147-4e11-f977-6cf601af193c"
      },
      "outputs": [
        {
          "name": "stdout",
          "output_type": "stream",
          "text": [
            "<class 'pandas.core.frame.DataFrame'>\n",
            "RangeIndex: 151 entries, 0 to 150\n",
            "Data columns (total 7 columns):\n",
            " #   Column       Non-Null Count  Dtype \n",
            "---  ------       --------------  ----- \n",
            " 0   Pokemon No.  151 non-null    int64 \n",
            " 1   Name         151 non-null    object\n",
            " 2   Type 1       151 non-null    object\n",
            " 3   Type 2       67 non-null     object\n",
            " 4   MaxCP        151 non-null    int64 \n",
            " 5   MaxHP        151 non-null    int64 \n",
            " 6   Image URL    151 non-null    object\n",
            "dtypes: int64(3), object(4)\n",
            "memory usage: 8.4+ KB\n"
          ]
        }
      ],
      "source": [
        "df.info() # покажет информацию о размерности данных \n",
        "          # описание индекса, количество not-a-number элементов \n"
      ]
    },
    {
      "cell_type": "code",
      "execution_count": 122,
      "metadata": {
        "colab": {
          "base_uri": "https://localhost:8080/",
          "height": 433
        },
        "id": "RshkxfDLB7NM",
        "outputId": "96d6ccb5-02a6-4b05-c3c5-fbbcb124799f"
      },
      "outputs": [
        {
          "data": {
            "text/plain": [
              "<AxesSubplot: >"
            ]
          },
          "execution_count": 122,
          "metadata": {},
          "output_type": "execute_result"
        },
        {
          "data": {
            "image/png": "[encoded data removed]",
            "text/plain": [
              "<Figure size 640x480 with 1 Axes>"
            ]
          },
          "metadata": {},
          "output_type": "display_data"
        }
      ],
      "source": [
        "#визуализация отсутствия значений\n",
        "import seaborn as sns\n",
        "sns.heatmap(df.isnull(),yticklabels=False,cbar=False,cmap='viridis')"
      ]
    },
    {
      "cell_type": "code",
      "execution_count": 123,
      "metadata": {
        "colab": {
          "base_uri": "https://localhost:8080/",
          "height": 300
        },
        "id": "wKuprdg83_xZ",
        "outputId": "da75ccc4-39c9-4022-91f9-90177b8b7316"
      },
      "outputs": [
        {
          "data": {
            "text/html": [
              "<div>\n",
              "<style scoped>\n",
              "    .dataframe tbody tr th:only-of-type {\n",
              "        vertical-align: middle;\n",
              "    }\n",
              "\n",
              "    .dataframe tbody tr th {\n",
              "        vertical-align: top;\n",
              "    }\n",
              "\n",
              "    .dataframe thead th {\n",
              "        text-align: right;\n",
              "    }\n",
              "</style>\n",
              "<table border=\"1\" class=\"dataframe\">\n",
              "  <thead>\n",
              "    <tr style=\"text-align: right;\">\n",
              "      <th></th>\n",
              "      <th>Pokemon No.</th>\n",
              "      <th>MaxCP</th>\n",
              "      <th>MaxHP</th>\n",
              "    </tr>\n",
              "  </thead>\n",
              "  <tbody>\n",
              "    <tr>\n",
              "      <th>count</th>\n",
              "      <td>151.000000</td>\n",
              "      <td>151.000000</td>\n",
              "      <td>151.000000</td>\n",
              "    </tr>\n",
              "    <tr>\n",
              "      <th>mean</th>\n",
              "      <td>76.000000</td>\n",
              "      <td>1637.291391</td>\n",
              "      <td>113.350993</td>\n",
              "    </tr>\n",
              "    <tr>\n",
              "      <th>std</th>\n",
              "      <td>43.734045</td>\n",
              "      <td>755.261726</td>\n",
              "      <td>45.297417</td>\n",
              "    </tr>\n",
              "    <tr>\n",
              "      <th>min</th>\n",
              "      <td>1.000000</td>\n",
              "      <td>264.000000</td>\n",
              "      <td>27.000000</td>\n",
              "    </tr>\n",
              "    <tr>\n",
              "      <th>25%</th>\n",
              "      <td>38.500000</td>\n",
              "      <td>1001.500000</td>\n",
              "      <td>83.000000</td>\n",
              "    </tr>\n",
              "    <tr>\n",
              "      <th>50%</th>\n",
              "      <td>76.000000</td>\n",
              "      <td>1594.000000</td>\n",
              "      <td>107.000000</td>\n",
              "    </tr>\n",
              "    <tr>\n",
              "      <th>75%</th>\n",
              "      <td>113.500000</td>\n",
              "      <td>2170.500000</td>\n",
              "      <td>138.000000</td>\n",
              "    </tr>\n",
              "    <tr>\n",
              "      <th>max</th>\n",
              "      <td>151.000000</td>\n",
              "      <td>4174.000000</td>\n",
              "      <td>408.000000</td>\n",
              "    </tr>\n",
              "  </tbody>\n",
              "</table>\n",
              "</div>"
            ],
            "text/plain": [
              "       Pokemon No.        MaxCP       MaxHP\n",
              "count   151.000000   151.000000  151.000000\n",
              "mean     76.000000  1637.291391  113.350993\n",
              "std      43.734045   755.261726   45.297417\n",
              "min       1.000000   264.000000   27.000000\n",
              "25%      38.500000  1001.500000   83.000000\n",
              "50%      76.000000  1594.000000  107.000000\n",
              "75%     113.500000  2170.500000  138.000000\n",
              "max     151.000000  4174.000000  408.000000"
            ]
          },
          "execution_count": 123,
          "metadata": {},
          "output_type": "execute_result"
        }
      ],
      "source": [
        "df.describe() # показывает статистики count,mean, std, min, 25%-50%-75% percentile, max\n",
        "              # только для числовых значений\n"
      ]
    },
    {
      "cell_type": "code",
      "execution_count": 124,
      "metadata": {
        "colab": {
          "base_uri": "https://localhost:8080/"
        },
        "id": "4PMYtp-L4Ho_",
        "outputId": "63fb362b-4107-4c67-cb76-b53e3db7e125"
      },
      "outputs": [
        {
          "data": {
            "text/plain": [
              "Pokemon No.    151\n",
              "Name           151\n",
              "Type 1          15\n",
              "Type 2          11\n",
              "MaxCP          150\n",
              "MaxHP           42\n",
              "Image URL      151\n",
              "dtype: int64"
            ]
          },
          "execution_count": 124,
          "metadata": {},
          "output_type": "execute_result"
        }
      ],
      "source": [
        "df.nunique() # количество уникальных значений для каждого столбца "
      ]
    },
    {
      "cell_type": "code",
      "execution_count": 125,
      "metadata": {
        "colab": {
          "base_uri": "https://localhost:8080/"
        },
        "id": "ed_g2Fyj4UY0",
        "outputId": "271bd82d-a425-4443-ba01-8c094af80237"
      },
      "outputs": [
        {
          "name": "stdout",
          "output_type": "stream",
          "text": [
            "Pokemon No.\n",
            "----------------------------------\n",
            "1      1\n",
            "96     1\n",
            "98     1\n",
            "99     1\n",
            "100    1\n",
            "      ..\n",
            "52     1\n",
            "53     1\n",
            "54     1\n",
            "55     1\n",
            "151    1\n",
            "Name: Pokemon No., Length: 151, dtype: int64\n",
            "==================================\n",
            "Name\n",
            "----------------------------------\n",
            "Bulbasaur    1\n",
            "Drowzee      1\n",
            "Krabby       1\n",
            "Kingler      1\n",
            "Voltorb      1\n",
            "            ..\n",
            "Meowth       1\n",
            "Persian      1\n",
            "Psyduck      1\n",
            "Golduck      1\n",
            "Mew          1\n",
            "Name: Name, Length: 151, dtype: int64\n",
            "==================================\n",
            "Type 1\n",
            "----------------------------------\n",
            "Water       28\n",
            "Normal      22\n",
            "Poison      14\n",
            "Grass       12\n",
            "Fire        12\n",
            "Bug         12\n",
            "Electric     9\n",
            "Rock         9\n",
            "Ground       8\n",
            "Psychic      8\n",
            "Fighting     7\n",
            "Ghost        3\n",
            "Dragon       3\n",
            "Fairy        2\n",
            "Ice          2\n",
            "Name: Type 1, dtype: int64\n",
            "==================================\n",
            "Type 2\n",
            "----------------------------------\n",
            "NaN         84\n",
            "Poison      19\n",
            "Flying      19\n",
            "Ground       6\n",
            "Psychic      6\n",
            "Water        4\n",
            "Fairy        3\n",
            "Ice          3\n",
            "Grass        2\n",
            "Steel        2\n",
            "Rock         2\n",
            "Fighting     1\n",
            "Name: Type 2, dtype: int64\n",
            "==================================\n",
            "MaxCP\n",
            "----------------------------------\n",
            "1643    2\n",
            "1668    1\n",
            "797     1\n",
            "1836    1\n",
            "845     1\n",
            "       ..\n",
            "1176    1\n",
            "761     1\n",
            "1117    1\n",
            "2403    1\n",
            "3322    1\n",
            "Name: MaxCP, Length: 150, dtype: int64\n",
            "==================================\n",
            "MaxHP\n",
            "----------------------------------\n",
            "115    17\n",
            "107    15\n",
            "75     13\n",
            "138    10\n",
            "154    10\n",
            "91     10\n",
            "99      8\n",
            "67      7\n",
            "59      7\n",
            "83      6\n",
            "122     6\n",
            "162     4\n",
            "130     4\n",
            "178     3\n",
            "218     2\n",
            "51      2\n",
            "108     2\n",
            "143     1\n",
            "94      1\n",
            "180     1\n",
            "156     1\n",
            "76      1\n",
            "265     1\n",
            "88      1\n",
            "73      1\n",
            "43      1\n",
            "408     1\n",
            "146     1\n",
            "103     1\n",
            "135     1\n",
            "111     1\n",
            "27      1\n",
            "233     1\n",
            "194     1\n",
            "127     1\n",
            "72      1\n",
            "81      1\n",
            "140     1\n",
            "105     1\n",
            "84      1\n",
            "137     1\n",
            "170     1\n",
            "Name: MaxHP, dtype: int64\n",
            "==================================\n",
            "Image URL\n",
            "----------------------------------\n",
            "http://cdn.bulbagarden.net/upload/thumb/2/21/001Bulbasaur.png/250px-001Bulbasaur.png    1\n",
            "http://cdn.bulbagarden.net/upload/thumb/3/3e/096Drowzee.png/250px-096Drowzee.png        1\n",
            "http://cdn.bulbagarden.net/upload/thumb/a/a7/098Krabby.png/250px-098Krabby.png          1\n",
            "http://cdn.bulbagarden.net/upload/thumb/7/71/099Kingler.png/250px-099Kingler.png        1\n",
            "http://cdn.bulbagarden.net/upload/thumb/d/da/100Voltorb.png/250px-100Voltorb.png        1\n",
            "                                                                                       ..\n",
            "http://cdn.bulbagarden.net/upload/thumb/d/d6/052Meowth.png/250px-052Meowth.png          1\n",
            "http://cdn.bulbagarden.net/upload/thumb/1/13/053Persian.png/250px-053Persian.png        1\n",
            "http://cdn.bulbagarden.net/upload/thumb/5/53/054Psyduck.png/250px-054Psyduck.png        1\n",
            "http://cdn.bulbagarden.net/upload/thumb/f/fe/055Golduck.png/250px-055Golduck.png        1\n",
            "http://cdn.bulbagarden.net/upload/thumb/b/b1/151Mew.png/250px-151Mew.png                1\n",
            "Name: Image URL, Length: 151, dtype: int64\n",
            "==================================\n"
          ]
        }
      ],
      "source": [
        "#количество каждого уникального значения для каждого столбца в наборе данных\n",
        "feature_names = df.columns.tolist() \n",
        "for column in feature_names: \n",
        "    print(column) \n",
        "    print(\"----------------------------------\")\n",
        "    print(df[column].value_counts(dropna=False)) \n",
        "    print(\"==================================\")"
      ]
    },
    {
      "cell_type": "markdown",
      "metadata": {
        "id": "sqzV5Ln26BMJ"
      },
      "source": [
        "## Выделение целевой переменной"
      ]
    },
    {
      "cell_type": "code",
      "execution_count": 126,
      "metadata": {
        "colab": {
          "base_uri": "https://localhost:8080/"
        },
        "id": "RRZQxPOz6q9l",
        "outputId": "40abce77-5f9a-4b24-e171-6df35d087c9b"
      },
      "outputs": [
        {
          "name": "stdout",
          "output_type": "stream",
          "text": [
            "   Pokemon No.        Name Type 1  Type 2  MaxHP  \\\n",
            "0            1   Bulbasaur  Grass  Poison     83   \n",
            "1            2     Ivysaur  Grass  Poison    107   \n",
            "2            3    Venusaur  Grass  Poison    138   \n",
            "3            4  Charmander   Fire     NaN     73   \n",
            "4            5  Charmeleon   Fire     NaN    103   \n",
            "\n",
            "                                           Image URL  \n",
            "0  http://cdn.bulbagarden.net/upload/thumb/2/21/0...  \n",
            "1  http://cdn.bulbagarden.net/upload/thumb/7/73/0...  \n",
            "2  http://cdn.bulbagarden.net/upload/thumb/a/ae/0...  \n",
            "3  http://cdn.bulbagarden.net/upload/thumb/7/73/0...  \n",
            "4  http://cdn.bulbagarden.net/upload/thumb/4/4a/0...  \n"
          ]
        },
        {
          "name": "stderr",
          "output_type": "stream",
          "text": [
            "/tmp/ipykernel_3119/3852086856.py:1: FutureWarning: In a future version of pandas all arguments of DataFrame.drop except for the argument 'labels' will be keyword-only.\n",
            "  features = df.drop('MaxCP',1)\n"
          ]
        }
      ],
      "source": [
        "features = df.drop('MaxCP',1) \n",
        "labels = df['MaxCP'] \n",
        "print(features.head())"
      ]
    },
    {
      "cell_type": "markdown",
      "metadata": {
        "id": "VjYgYZyl5IRt"
      },
      "source": [
        "## Чистка датасета "
      ]
    },
    {
      "cell_type": "markdown",
      "metadata": {
        "id": "hGcsH09_64EO"
      },
      "source": [
        "### Обработка пропусков данных"
      ]
    },
    {
      "cell_type": "code",
      "execution_count": 141,
      "metadata": {
        "colab": {
          "base_uri": "https://localhost:8080/"
        },
        "id": "GZ2JZ3Lf4se4",
        "outputId": "f228f063-b27d-4523-bc28-a4b2cb1c4c74"
      },
      "outputs": [
        {
          "name": "stdout",
          "output_type": "stream",
          "text": [
            "nan\n",
            "nan\n",
            "nan\n",
            "3.0\n",
            "3.0\n",
            "nan\n",
            "nan\n",
            "nan\n",
            "nan\n",
            "4.0\n",
            "4.0\n",
            "nan\n",
            "nan\n",
            "nan\n",
            "nan\n",
            "nan\n",
            "nan\n",
            "nan\n",
            "1.0\n",
            "1.0\n",
            "nan\n",
            "nan\n",
            "nan\n",
            "nan\n",
            "5.0\n",
            "5.0\n",
            "7.0\n",
            "7.0\n",
            "nan\n",
            "nan\n",
            "7.0\n",
            "nan\n",
            "nan\n",
            "7.0\n",
            "11.0\n",
            "11.0\n",
            "3.0\n",
            "3.0\n",
            "11.0\n",
            "11.0\n",
            "nan\n",
            "nan\n",
            "nan\n",
            "nan\n",
            "nan\n",
            "2.0\n",
            "2.0\n",
            "nan\n",
            "nan\n",
            "7.0\n",
            "7.0\n",
            "1.0\n",
            "1.0\n",
            "nan\n",
            "nan\n",
            "nan\n",
            "nan\n",
            "3.0\n",
            "3.0\n",
            "nan\n",
            "nan\n",
            "nan\n",
            "8.0\n",
            "8.0\n",
            "8.0\n",
            "nan\n",
            "nan\n",
            "nan\n",
            "nan\n",
            "nan\n",
            "nan\n",
            "nan\n",
            "nan\n",
            "7.0\n",
            "7.0\n",
            "7.0\n",
            "3.0\n",
            "3.0\n",
            "8.0\n",
            "8.0\n",
            "nan\n",
            "nan\n",
            "nan\n",
            "nan\n",
            "nan\n",
            "nan\n",
            "12.0\n",
            "nan\n",
            "nan\n",
            "nan\n",
            "12.0\n",
            "nan\n",
            "nan\n",
            "nan\n",
            "7.0\n",
            "8.0\n",
            "8.0\n",
            "nan\n",
            "nan\n",
            "5.0\n",
            "5.0\n",
            "8.0\n",
            "8.0\n",
            "7.0\n",
            "7.0\n",
            "nan\n",
            "nan\n",
            "1.0\n",
            "nan\n",
            "nan\n",
            "6.0\n",
            "6.0\n",
            "1.0\n",
            "2.0\n",
            "1.0\n",
            "nan\n",
            "nan\n",
            "nan\n",
            "nan\n",
            "nan\n",
            "8.0\n",
            "11.0\n",
            "nan\n",
            "8.0\n",
            "5.0\n",
            "3.0\n",
            "4.0\n",
            "1.0\n",
            "nan\n",
            "nan\n",
            "12.0\n",
            "1.0\n",
            "1.0\n",
            "nan\n",
            "5.0\n",
            "3.0\n",
            "1.0\n",
            "nan\n",
            "nan\n",
            "nan\n",
            "nan\n",
            "nan\n",
            "1.0\n",
            "nan\n",
            "nan\n",
            "nan\n",
            "10.0\n",
            "10.0\n",
            "nan\n",
            "8.0\n",
            "8.0\n"
          ]
        }
      ],
      "source": [
        "for row in df.itertuples():\n",
        "    #print(type(row[4]))\n",
        "    #print(f\"{type(row[4])} - {row[4]} - {pd.isna(row[4])}\")\n",
        "    if pd.isna(row[4]):\n",
        "        df.at[row.Index, \"Type 2\"] = row[3]\n",
        "    print(row[4])"
      ]
    },
    {
      "cell_type": "code",
      "execution_count": 128,
      "metadata": {},
      "outputs": [
        {
          "data": {
            "text/plain": [
              "float"
            ]
          },
          "execution_count": 128,
          "metadata": {},
          "output_type": "execute_result"
        }
      ],
      "source": [
        "type(row[4])\n",
        "#row[4].value ()"
      ]
    },
    {
      "cell_type": "code",
      "execution_count": 129,
      "metadata": {},
      "outputs": [
        {
          "data": {
            "text/plain": [
              "<AxesSubplot: >"
            ]
          },
          "execution_count": 129,
          "metadata": {},
          "output_type": "execute_result"
        },
        {
          "data": {
            "image/png": "[encoded data removed]",
            "text/plain": [
              "<Figure size 640x480 with 1 Axes>"
            ]
          },
          "metadata": {},
          "output_type": "display_data"
        }
      ],
      "source": [
        "sns.heatmap(df.isnull(),yticklabels=False,cbar=False,cmap='viridis')"
      ]
    },
    {
      "cell_type": "markdown",
      "metadata": {
        "id": "Y65ZquxvJsVK"
      },
      "source": [
        "### Обнаружение выбросов\n",
        "\n",
        "Для Age существуют значения, которые кажутся ошибочными. Такие как отрицательный возраст или чрезвычайно большие целые числа, могут негативно повлиять на результат работы алгоритма машинного обучения, и нам нужно будет их устранить.\n",
        "Для этого возьмем эвристическую оценку, в каком возрасте могут работать люди: от 14 до 100 лет. "
      ]
    },
    {
      "cell_type": "code",
      "execution_count": 130,
      "metadata": {
        "colab": {
          "base_uri": "https://localhost:8080/",
          "height": 449
        },
        "id": "9kb2P_6c2u0b",
        "outputId": "d6b617d6-65c8-48d7-c705-1eec532938c1"
      },
      "outputs": [
        {
          "name": "stderr",
          "output_type": "stream",
          "text": [
            "/tmp/ipykernel_3119/294848177.py:5: UserWarning: \n",
            "\n",
            "`distplot` is a deprecated function and will be removed in seaborn v0.14.0.\n",
            "\n",
            "Please adapt your code to use either `displot` (a figure-level function with\n",
            "similar flexibility) or `histplot` (an axes-level function for histograms).\n",
            "\n",
            "For a guide to updating your code to use the new functions, please see\n",
            "https://gist.github.com/mwaskom/de44147ed2974457ad6372750bbe5751\n",
            "\n",
            "  plot = sns.distplot(features.MaxHP.dropna())\n"
          ]
        },
        {
          "data": {
            "image/png": "[encoded data removed]",
            "text/plain": [
              "<Figure size 600x600 with 1 Axes>"
            ]
          },
          "metadata": {},
          "output_type": "display_data"
        }
      ],
      "source": [
        "#визуализация распределения возраста\n",
        "%matplotlib inline   \n",
        "import seaborn as sns \n",
        "sns.set(color_codes=True) \n",
        "plot = sns.distplot(features.MaxHP.dropna()) \n",
        "plot.figure.set_size_inches(6,6) # в дюймах"
      ]
    },
    {
      "cell_type": "code",
      "execution_count": 131,
      "metadata": {
        "colab": {
          "base_uri": "https://localhost:8080/",
          "height": 449
        },
        "id": "XIAHGo69KWnT",
        "outputId": "60a0f892-3e36-4992-d786-7d23efb6f221"
      },
      "outputs": [
        {
          "name": "stderr",
          "output_type": "stream",
          "text": [
            "/tmp/ipykernel_3119/294848177.py:5: UserWarning: \n",
            "\n",
            "`distplot` is a deprecated function and will be removed in seaborn v0.14.0.\n",
            "\n",
            "Please adapt your code to use either `displot` (a figure-level function with\n",
            "similar flexibility) or `histplot` (an axes-level function for histograms).\n",
            "\n",
            "For a guide to updating your code to use the new functions, please see\n",
            "https://gist.github.com/mwaskom/de44147ed2974457ad6372750bbe5751\n",
            "\n",
            "  plot = sns.distplot(features.MaxHP.dropna())\n"
          ]
        },
        {
          "data": {
            "image/png": "[encoded data removed]",
            "text/plain": [
              "<Figure size 600x600 with 1 Axes>"
            ]
          },
          "metadata": {},
          "output_type": "display_data"
        }
      ],
      "source": [
        "#визуализация распределения возраста\n",
        "%matplotlib inline   \n",
        "import seaborn as sns \n",
        "sns.set(color_codes=True) \n",
        "plot = sns.distplot(features.MaxHP.dropna()) \n",
        "plot.figure.set_size_inches(6,6) # в дюймах"
      ]
    },
    {
      "cell_type": "code",
      "execution_count": 132,
      "metadata": {
        "colab": {
          "base_uri": "https://localhost:8080/"
        },
        "id": "cFpcxQRmCRO6",
        "outputId": "ffa08d16-ba5c-4fcc-81cb-cf4f3075a537"
      },
      "outputs": [
        {
          "name": "stdout",
          "output_type": "stream",
          "text": [
            "0\n"
          ]
        }
      ],
      "source": [
        "#обработка nan значений, замена их на среднее значение по столбцу\n",
        "features['MaxHP'] = features['MaxHP'].fillna(features['MaxHP'].mean())\n",
        "print(features.isnull().sum()['MaxHP'])\n"
      ]
    },
    {
      "cell_type": "markdown",
      "metadata": {
        "id": "wUAp8bMPHXbO"
      },
      "source": [
        "### Кодирование данныx"
      ]
    },
    {
      "cell_type": "code",
      "execution_count": 134,
      "metadata": {
        "colab": {
          "base_uri": "https://localhost:8080/"
        },
        "id": "pMb_4emgHuTe",
        "outputId": "33082f12-8e84-47d2-8fe4-bdd712218fc4"
      },
      "outputs": [
        {
          "data": {
            "text/plain": [
              "Water       28\n",
              "Normal      22\n",
              "Poison      14\n",
              "Grass       12\n",
              "Fire        12\n",
              "Bug         12\n",
              "Electric     9\n",
              "Rock         9\n",
              "Ground       8\n",
              "Psychic      8\n",
              "Fighting     7\n",
              "Ghost        3\n",
              "Dragon       3\n",
              "Fairy        2\n",
              "Ice          2\n",
              "Name: Type 1, dtype: int64"
            ]
          },
          "execution_count": 134,
          "metadata": {},
          "output_type": "execute_result"
        }
      ],
      "source": [
        "features['Type 1'].value_counts(dropna=False) "
      ]
    },
    {
      "cell_type": "code",
      "execution_count": 135,
      "metadata": {
        "id": "ZyzXrvlCH2eG"
      },
      "outputs": [],
      "source": [
        "#ручное кодирование данных\n",
        "df['Type 2'] = df['Type 2'].map({'Water ': 0, \n",
        "                               'Normal': 1, \n",
        "                               'Grass': 2, \n",
        "                               'Fire': 3,\n",
        "                               'Bug': 4,\n",
        "                               'Electric': 5,\n",
        "                               'Rock': 6,\n",
        "                               'Ground': 7,\n",
        "                               'Psychic': 8,\n",
        "                               'Ghost': 9,\n",
        "                               'Dragon': 10,\n",
        "                               'Fairy': 11,\n",
        "                               'Ice': 12}) "
      ]
    },
    {
      "cell_type": "code",
      "execution_count": 136,
      "metadata": {
        "colab": {
          "base_uri": "https://localhost:8080/"
        },
        "id": "sBARHUBJIKWq",
        "outputId": "a0d37c6d-8673-4465-bd95-0f83a7b051b2"
      },
      "outputs": [
        {
          "data": {
            "text/plain": [
              "array([ 7,  7,  7,  5,  5,  5, 14, 14, 14,  0,  0,  0,  0,  0,  0, 10, 10,\n",
              "       10, 10, 10, 10, 10, 11, 11,  2,  2,  8,  8, 11, 11, 11, 11, 11, 11,\n",
              "        3,  3,  5,  5, 10, 10, 11, 11,  7,  7,  7,  0,  0,  0,  0,  8,  8,\n",
              "       10, 10, 14, 14,  4,  4,  5,  5, 14, 14, 14, 12, 12, 12,  4,  4,  4,\n",
              "        7,  7,  7, 14, 14, 13, 13, 13,  5,  5, 14, 14,  2,  2, 10, 10, 10,\n",
              "       14, 14, 11, 11, 14, 14,  6,  6,  6, 13, 12, 12, 14, 14,  2,  2,  7,\n",
              "        7,  8,  8,  4,  4, 10, 11, 11,  8,  8, 10,  7, 10, 14, 14, 14, 14,\n",
              "       14, 14, 12,  0,  9,  2,  5,  0, 10, 14, 14, 14, 10, 10, 14,  2,  5,\n",
              "       10, 13, 13, 13, 13, 13, 10,  9,  2,  5,  1,  1,  1, 12, 12])"
            ]
          },
          "execution_count": 136,
          "metadata": {},
          "output_type": "execute_result"
        }
      ],
      "source": [
        "#автоматическое кодирование \n",
        "#Проблема с этим подходом заключается в том, что вводится порядок, который может отсутствовать в исходных данных. \n",
        "from sklearn import preprocessing \n",
        "label_encoder = preprocessing.LabelEncoder() \n",
        "label_encoder.fit(features['Type 1']) \n",
        "label_encoder.transform(features['Type 1']) \n"
      ]
    },
    {
      "cell_type": "markdown",
      "metadata": {
        "id": "gYhNqUlHKYE-"
      },
      "source": [
        "Для кодирования номинальных данных используется метод one-hot-encoding. Создается столбец для каждого значения и используется 1 и 0 для обозначения выражения каждого значения. Эти новые столбцы часто называются фиктивными переменными."
      ]
    },
    {
      "cell_type": "code",
      "execution_count": 137,
      "metadata": {
        "colab": {
          "base_uri": "https://localhost:8080/",
          "height": 424
        },
        "id": "eWQWFbkxJ9cU",
        "outputId": "41ecdb3d-9a12-426f-c1d9-04e80f8d3777"
      },
      "outputs": [
        {
          "data": {
            "text/html": [
              "<div>\n",
              "<style scoped>\n",
              "    .dataframe tbody tr th:only-of-type {\n",
              "        vertical-align: middle;\n",
              "    }\n",
              "\n",
              "    .dataframe tbody tr th {\n",
              "        vertical-align: top;\n",
              "    }\n",
              "\n",
              "    .dataframe thead th {\n",
              "        text-align: right;\n",
              "    }\n",
              "</style>\n",
              "<table border=\"1\" class=\"dataframe\">\n",
              "  <thead>\n",
              "    <tr style=\"text-align: right;\">\n",
              "      <th></th>\n",
              "      <th>Bug</th>\n",
              "      <th>Dragon</th>\n",
              "      <th>Electric</th>\n",
              "      <th>Fairy</th>\n",
              "      <th>Fighting</th>\n",
              "      <th>Fire</th>\n",
              "      <th>Ghost</th>\n",
              "      <th>Grass</th>\n",
              "      <th>Ground</th>\n",
              "      <th>Ice</th>\n",
              "      <th>Normal</th>\n",
              "      <th>Poison</th>\n",
              "      <th>Psychic</th>\n",
              "      <th>Rock</th>\n",
              "      <th>Water</th>\n",
              "    </tr>\n",
              "  </thead>\n",
              "  <tbody>\n",
              "    <tr>\n",
              "      <th>0</th>\n",
              "      <td>0</td>\n",
              "      <td>0</td>\n",
              "      <td>0</td>\n",
              "      <td>0</td>\n",
              "      <td>0</td>\n",
              "      <td>0</td>\n",
              "      <td>0</td>\n",
              "      <td>1</td>\n",
              "      <td>0</td>\n",
              "      <td>0</td>\n",
              "      <td>0</td>\n",
              "      <td>0</td>\n",
              "      <td>0</td>\n",
              "      <td>0</td>\n",
              "      <td>0</td>\n",
              "    </tr>\n",
              "    <tr>\n",
              "      <th>1</th>\n",
              "      <td>0</td>\n",
              "      <td>0</td>\n",
              "      <td>0</td>\n",
              "      <td>0</td>\n",
              "      <td>0</td>\n",
              "      <td>0</td>\n",
              "      <td>0</td>\n",
              "      <td>1</td>\n",
              "      <td>0</td>\n",
              "      <td>0</td>\n",
              "      <td>0</td>\n",
              "      <td>0</td>\n",
              "      <td>0</td>\n",
              "      <td>0</td>\n",
              "      <td>0</td>\n",
              "    </tr>\n",
              "    <tr>\n",
              "      <th>2</th>\n",
              "      <td>0</td>\n",
              "      <td>0</td>\n",
              "      <td>0</td>\n",
              "      <td>0</td>\n",
              "      <td>0</td>\n",
              "      <td>0</td>\n",
              "      <td>0</td>\n",
              "      <td>1</td>\n",
              "      <td>0</td>\n",
              "      <td>0</td>\n",
              "      <td>0</td>\n",
              "      <td>0</td>\n",
              "      <td>0</td>\n",
              "      <td>0</td>\n",
              "      <td>0</td>\n",
              "    </tr>\n",
              "    <tr>\n",
              "      <th>3</th>\n",
              "      <td>0</td>\n",
              "      <td>0</td>\n",
              "      <td>0</td>\n",
              "      <td>0</td>\n",
              "      <td>0</td>\n",
              "      <td>1</td>\n",
              "      <td>0</td>\n",
              "      <td>0</td>\n",
              "      <td>0</td>\n",
              "      <td>0</td>\n",
              "      <td>0</td>\n",
              "      <td>0</td>\n",
              "      <td>0</td>\n",
              "      <td>0</td>\n",
              "      <td>0</td>\n",
              "    </tr>\n",
              "    <tr>\n",
              "      <th>4</th>\n",
              "      <td>0</td>\n",
              "      <td>0</td>\n",
              "      <td>0</td>\n",
              "      <td>0</td>\n",
              "      <td>0</td>\n",
              "      <td>1</td>\n",
              "      <td>0</td>\n",
              "      <td>0</td>\n",
              "      <td>0</td>\n",
              "      <td>0</td>\n",
              "      <td>0</td>\n",
              "      <td>0</td>\n",
              "      <td>0</td>\n",
              "      <td>0</td>\n",
              "      <td>0</td>\n",
              "    </tr>\n",
              "    <tr>\n",
              "      <th>...</th>\n",
              "      <td>...</td>\n",
              "      <td>...</td>\n",
              "      <td>...</td>\n",
              "      <td>...</td>\n",
              "      <td>...</td>\n",
              "      <td>...</td>\n",
              "      <td>...</td>\n",
              "      <td>...</td>\n",
              "      <td>...</td>\n",
              "      <td>...</td>\n",
              "      <td>...</td>\n",
              "      <td>...</td>\n",
              "      <td>...</td>\n",
              "      <td>...</td>\n",
              "      <td>...</td>\n",
              "    </tr>\n",
              "    <tr>\n",
              "      <th>146</th>\n",
              "      <td>0</td>\n",
              "      <td>1</td>\n",
              "      <td>0</td>\n",
              "      <td>0</td>\n",
              "      <td>0</td>\n",
              "      <td>0</td>\n",
              "      <td>0</td>\n",
              "      <td>0</td>\n",
              "      <td>0</td>\n",
              "      <td>0</td>\n",
              "      <td>0</td>\n",
              "      <td>0</td>\n",
              "      <td>0</td>\n",
              "      <td>0</td>\n",
              "      <td>0</td>\n",
              "    </tr>\n",
              "    <tr>\n",
              "      <th>147</th>\n",
              "      <td>0</td>\n",
              "      <td>1</td>\n",
              "      <td>0</td>\n",
              "      <td>0</td>\n",
              "      <td>0</td>\n",
              "      <td>0</td>\n",
              "      <td>0</td>\n",
              "      <td>0</td>\n",
              "      <td>0</td>\n",
              "      <td>0</td>\n",
              "      <td>0</td>\n",
              "      <td>0</td>\n",
              "      <td>0</td>\n",
              "      <td>0</td>\n",
              "      <td>0</td>\n",
              "    </tr>\n",
              "    <tr>\n",
              "      <th>148</th>\n",
              "      <td>0</td>\n",
              "      <td>1</td>\n",
              "      <td>0</td>\n",
              "      <td>0</td>\n",
              "      <td>0</td>\n",
              "      <td>0</td>\n",
              "      <td>0</td>\n",
              "      <td>0</td>\n",
              "      <td>0</td>\n",
              "      <td>0</td>\n",
              "      <td>0</td>\n",
              "      <td>0</td>\n",
              "      <td>0</td>\n",
              "      <td>0</td>\n",
              "      <td>0</td>\n",
              "    </tr>\n",
              "    <tr>\n",
              "      <th>149</th>\n",
              "      <td>0</td>\n",
              "      <td>0</td>\n",
              "      <td>0</td>\n",
              "      <td>0</td>\n",
              "      <td>0</td>\n",
              "      <td>0</td>\n",
              "      <td>0</td>\n",
              "      <td>0</td>\n",
              "      <td>0</td>\n",
              "      <td>0</td>\n",
              "      <td>0</td>\n",
              "      <td>0</td>\n",
              "      <td>1</td>\n",
              "      <td>0</td>\n",
              "      <td>0</td>\n",
              "    </tr>\n",
              "    <tr>\n",
              "      <th>150</th>\n",
              "      <td>0</td>\n",
              "      <td>0</td>\n",
              "      <td>0</td>\n",
              "      <td>0</td>\n",
              "      <td>0</td>\n",
              "      <td>0</td>\n",
              "      <td>0</td>\n",
              "      <td>0</td>\n",
              "      <td>0</td>\n",
              "      <td>0</td>\n",
              "      <td>0</td>\n",
              "      <td>0</td>\n",
              "      <td>1</td>\n",
              "      <td>0</td>\n",
              "      <td>0</td>\n",
              "    </tr>\n",
              "  </tbody>\n",
              "</table>\n",
              "<p>151 rows × 15 columns</p>\n",
              "</div>"
            ],
            "text/plain": [
              "     Bug  Dragon  Electric  Fairy  Fighting  Fire  Ghost  Grass  Ground  Ice  \\\n",
              "0      0       0         0      0         0     0      0      1       0    0   \n",
              "1      0       0         0      0         0     0      0      1       0    0   \n",
              "2      0       0         0      0         0     0      0      1       0    0   \n",
              "3      0       0         0      0         0     1      0      0       0    0   \n",
              "4      0       0         0      0         0     1      0      0       0    0   \n",
              "..   ...     ...       ...    ...       ...   ...    ...    ...     ...  ...   \n",
              "146    0       1         0      0         0     0      0      0       0    0   \n",
              "147    0       1         0      0         0     0      0      0       0    0   \n",
              "148    0       1         0      0         0     0      0      0       0    0   \n",
              "149    0       0         0      0         0     0      0      0       0    0   \n",
              "150    0       0         0      0         0     0      0      0       0    0   \n",
              "\n",
              "     Normal  Poison  Psychic  Rock  Water  \n",
              "0         0       0        0     0      0  \n",
              "1         0       0        0     0      0  \n",
              "2         0       0        0     0      0  \n",
              "3         0       0        0     0      0  \n",
              "4         0       0        0     0      0  \n",
              "..      ...     ...      ...   ...    ...  \n",
              "146       0       0        0     0      0  \n",
              "147       0       0        0     0      0  \n",
              "148       0       0        0     0      0  \n",
              "149       0       0        1     0      0  \n",
              "150       0       0        1     0      0  \n",
              "\n",
              "[151 rows x 15 columns]"
            ]
          },
          "execution_count": 137,
          "metadata": {},
          "output_type": "execute_result"
        }
      ],
      "source": [
        "#автоматическое кодирование\n",
        "pd.get_dummies(features['Type 1']) "
      ]
    },
    {
      "cell_type": "markdown",
      "metadata": {
        "id": "RPJDryDjLKYB"
      },
      "source": [
        "### Нормализация данных\n",
        "\n",
        "Алгоритмы машинного обучения, как правило, работают лучше или сходятся быстрее, когда различные функции (переменные) имеют меньший масштаб. Поэтому перед обучением на них моделей машинного обучения данные обычно нормализуются.\n",
        "\n",
        "Нормализация также делает процесс обучения менее чувствительным к масштабу функций. Это приводит к улучшению коэффициентов после тренировки.\n",
        "\n",
        "**Нормализация на стандартное отклонение (StandartScaler)** - используется для изменения размера распределения значений так, чтобы среднее значение наблюдаемых значений было равно 0, а стандартное отклонение – 1.\n",
        "\n",
        "**Нормализация Min-max** устанавливает наименьшее наблюдаемое значение равным 0, а наибольшее наблюдаемое значение — 1.\n"
      ]
    },
    {
      "cell_type": "code",
      "execution_count": 138,
      "metadata": {
        "id": "STLOuFbdMw7L"
      },
      "outputs": [
        {
          "name": "stdout",
          "output_type": "stream",
          "text": [
            "   Pokemon No.        Name Type 1  Type 2     MaxHP  \\\n",
            "0            1   Bulbasaur  Grass  Poison -0.672268   \n",
            "1            2     Ivysaur  Grass  Poison -0.140673   \n",
            "2            3    Venusaur  Grass  Poison  0.545970   \n",
            "3            4  Charmander   Fire     NaN -0.893766   \n",
            "4            5  Charmeleon   Fire     NaN -0.229272   \n",
            "\n",
            "                                           Image URL  \n",
            "0  http://cdn.bulbagarden.net/upload/thumb/2/21/0...  \n",
            "1  http://cdn.bulbagarden.net/upload/thumb/7/73/0...  \n",
            "2  http://cdn.bulbagarden.net/upload/thumb/a/ae/0...  \n",
            "3  http://cdn.bulbagarden.net/upload/thumb/7/73/0...  \n",
            "4  http://cdn.bulbagarden.net/upload/thumb/4/4a/0...  \n"
          ]
        }
      ],
      "source": [
        "#нормализация на стандартное отклонение \n",
        "from sklearn.preprocessing import StandardScaler \n",
        "scale_features_std = StandardScaler() \n",
        "features[['MaxHP']]=scale_features_std.fit_transform(features[['MaxHP']]) \n",
        "print(features.head())"
      ]
    },
    {
      "cell_type": "code",
      "execution_count": 139,
      "metadata": {
        "id": "Sa8Pc_M58eLv"
      },
      "outputs": [
        {
          "name": "stdout",
          "output_type": "stream",
          "text": [
            "   Pokemon No.        Name Type 1  Type 2  MaxHP  \\\n",
            "0            1   Bulbasaur  Grass  Poison     83   \n",
            "1            2     Ivysaur  Grass  Poison    107   \n",
            "2            3    Venusaur  Grass  Poison    138   \n",
            "3            4  Charmander   Fire     NaN     73   \n",
            "4            5  Charmeleon   Fire     NaN    103   \n",
            "\n",
            "                                           Image URL  \n",
            "0  http://cdn.bulbagarden.net/upload/thumb/2/21/0...  \n",
            "1  http://cdn.bulbagarden.net/upload/thumb/7/73/0...  \n",
            "2  http://cdn.bulbagarden.net/upload/thumb/a/ae/0...  \n",
            "3  http://cdn.bulbagarden.net/upload/thumb/7/73/0...  \n",
            "4  http://cdn.bulbagarden.net/upload/thumb/4/4a/0...  \n",
            "   Pokemon No.        Name Type 1  Type 2     MaxHP  \\\n",
            "0            1   Bulbasaur  Grass  Poison  0.146982   \n",
            "1            2     Ivysaur  Grass  Poison  0.209974   \n",
            "2            3    Venusaur  Grass  Poison  0.291339   \n",
            "3            4  Charmander   Fire     NaN  0.120735   \n",
            "4            5  Charmeleon   Fire     NaN  0.199475   \n",
            "\n",
            "                                           Image URL  \n",
            "0  http://cdn.bulbagarden.net/upload/thumb/2/21/0...  \n",
            "1  http://cdn.bulbagarden.net/upload/thumb/7/73/0...  \n",
            "2  http://cdn.bulbagarden.net/upload/thumb/a/ae/0...  \n",
            "3  http://cdn.bulbagarden.net/upload/thumb/7/73/0...  \n",
            "4  http://cdn.bulbagarden.net/upload/thumb/4/4a/0...  \n"
          ]
        }
      ],
      "source": [
        "#нормализация Min-max\n",
        "features[\"MaxHP\"] = df[\"MaxHP\"]\n",
        "features['MaxHP'] = features['MaxHP'].fillna(features['MaxHP'].mean())\n",
        "print(features.head())\n",
        "\n",
        "from sklearn.preprocessing import MinMaxScaler \n",
        "scale_features_mm = MinMaxScaler() \n",
        "features[[\"MaxHP\"]] = scale_features_mm.fit_transform(features[[\"MaxHP\"]]) \n",
        "print(features.head())"
      ]
    },
    {
      "cell_type": "markdown",
      "metadata": {
        "id": "IdC3hF4G9nWa"
      },
      "source": [
        "### Разделение данных для обучения и тестирования\n",
        "Разделение данных на обучающую и тестовую выборку. Выделение тестовой выборки необходимо для понимания того, что модель обучена в достаточной степени (не произошло переобучение или недообучение)"
      ]
    },
    {
      "cell_type": "code",
      "execution_count": 140,
      "metadata": {
        "colab": {
          "base_uri": "https://localhost:8080/"
        },
        "id": "uaG0OQvjL1zv",
        "outputId": "f0c7a3c4-771b-4d6a-cb09-ec39e39edcfa"
      },
      "outputs": [
        {
          "name": "stdout",
          "output_type": "stream",
          "text": [
            "(151, 6)\n",
            "(120, 6)\n",
            "(31, 6)\n"
          ]
        }
      ],
      "source": [
        "from sklearn.model_selection import train_test_split \n",
        "\n",
        "features_train, features_test, labels_train, labels_test = train_test_split(features, labels, test_size=0.2, random_state = 0) \n",
        "\n",
        "print(features.shape)\n",
        "print(features_train.shape)\n",
        "print(features_test.shape)"
      ]
    }
  ],
  "metadata": {
    "colab": {
      "provenance": []
    },
    "kernelspec": {
      "display_name": "Python 3.10.6 64-bit",
      "language": "python",
      "name": "python3"
    },
    "language_info": {
      "codemirror_mode": {
        "name": "ipython",
        "version": 3
      },
      "file_extension": ".py",
      "mimetype": "text/x-python",
      "name": "python",
      "nbconvert_exporter": "python",
      "pygments_lexer": "ipython3",
      "version": "3.10.6"
    },
    "vscode": {
      "interpreter": {
        "hash": "916dbcbb3f70747c44a77c7bcd40155683ae19c65e1c03b4aa3499c5328201f1"
      }
    }
  },
  "nbformat": 4,
  "nbformat_minor": 0
}
