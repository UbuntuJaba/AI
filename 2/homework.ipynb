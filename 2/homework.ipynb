{
 "cells": [
  {
   "attachments": {},
   "cell_type": "markdown",
   "metadata": {},
   "source": [
    "Задание для практических работ:\n",
    "\n",
    "# Задание 1. \n",
    "Для выбранного и предобработанного датасета из лабораторной работы 1, учитывая особенности моделей:"
   ]
  },
  {
   "cell_type": "markdown",
   "metadata": {},
   "source": [
    "Произвести классификацию используя:\n",
    "## 1. Наивный баессовский классификатор"
   ]
  },
  {
   "cell_type": "code",
   "execution_count": 38,
   "metadata": {},
   "outputs": [
    {
     "name": "stdout",
     "output_type": "stream",
     "text": [
      "[[ 83]\n",
      " [107]\n",
      " [138]\n",
      " [ 73]\n",
      " [103]\n",
      " [135]\n",
      " [ 81]\n",
      " [105]\n",
      " [137]\n",
      " [ 83]\n",
      " [ 91]\n",
      " [107]\n",
      " [ 75]\n",
      " [ 83]\n",
      " [115]\n",
      " [ 75]\n",
      " [111]\n",
      " [143]\n",
      " [ 59]\n",
      " [ 99]\n",
      " [ 75]\n",
      " [115]\n",
      " [ 67]\n",
      " [107]\n",
      " [ 67]\n",
      " [107]\n",
      " [ 91]\n",
      " [130]\n",
      " [ 99]\n",
      " [122]\n",
      " [154]\n",
      " [ 84]\n",
      " [108]\n",
      " [140]\n",
      " [122]\n",
      " [162]\n",
      " [ 72]\n",
      " [127]\n",
      " [194]\n",
      " [233]\n",
      " [ 75]\n",
      " [130]\n",
      " [ 83]\n",
      " [107]\n",
      " [130]\n",
      " [ 67]\n",
      " [107]\n",
      " [107]\n",
      " [122]\n",
      " [ 27]\n",
      " [ 67]\n",
      " [ 75]\n",
      " [115]\n",
      " [ 91]\n",
      " [138]\n",
      " [ 75]\n",
      " [115]\n",
      " [ 99]\n",
      " [154]\n",
      " [ 75]\n",
      " [115]\n",
      " [154]\n",
      " [ 51]\n",
      " [ 75]\n",
      " [ 99]\n",
      " [122]\n",
      " [138]\n",
      " [154]\n",
      " [ 91]\n",
      " [115]\n",
      " [138]\n",
      " [ 75]\n",
      " [138]\n",
      " [ 75]\n",
      " [ 99]\n",
      " [138]\n",
      " [ 91]\n",
      " [115]\n",
      " [154]\n",
      " [162]\n",
      " [ 51]\n",
      " [ 91]\n",
      " [ 94]\n",
      " [ 67]\n",
      " [107]\n",
      " [115]\n",
      " [154]\n",
      " [138]\n",
      " [178]\n",
      " [ 59]\n",
      " [ 91]\n",
      " [ 59]\n",
      " [ 83]\n",
      " [107]\n",
      " [ 67]\n",
      " [107]\n",
      " [146]\n",
      " [ 59]\n",
      " [ 99]\n",
      " [ 75]\n",
      " [107]\n",
      " [107]\n",
      " [162]\n",
      " [ 91]\n",
      " [107]\n",
      " [ 91]\n",
      " [ 91]\n",
      " [154]\n",
      " [ 75]\n",
      " [115]\n",
      " [138]\n",
      " [178]\n",
      " [408]\n",
      " [115]\n",
      " [178]\n",
      " [ 59]\n",
      " [ 99]\n",
      " [ 83]\n",
      " [138]\n",
      " [ 59]\n",
      " [107]\n",
      " [ 75]\n",
      " [122]\n",
      " [115]\n",
      " [115]\n",
      " [115]\n",
      " [115]\n",
      " [130]\n",
      " [ 43]\n",
      " [162]\n",
      " [218]\n",
      " [ 88]\n",
      " [ 99]\n",
      " [218]\n",
      " [115]\n",
      " [115]\n",
      " [115]\n",
      " [ 67]\n",
      " [122]\n",
      " [ 59]\n",
      " [107]\n",
      " [138]\n",
      " [265]\n",
      " [154]\n",
      " [154]\n",
      " [154]\n",
      " [ 76]\n",
      " [108]\n",
      " [156]\n",
      " [180]\n",
      " [170]]\n",
      "Правильность на тестовом наборе: 0.19\n"
     ]
    },
    {
     "name": "stderr",
     "output_type": "stream",
     "text": [
      "/home/andor/.local/lib/python3.10/site-packages/sklearn/base.py:420: UserWarning: X does not have valid feature names, but BernoulliNB was fitted with feature names\n",
      "  warnings.warn(\n"
     ]
    }
   ],
   "source": [
    "import pandas as pd\n",
    "import numpy as np\n",
    "from sklearn.model_selection import train_test_split\n",
    "from sklearn.naive_bayes import BernoulliNB\n",
    "# Загрузить данные\n",
    "df = pd.read_csv(\"pokemonGO.csv\")\n",
    "features = df[['MaxHP']]\n",
    "print(features.values)\n",
    "# Создать вектор бинарных целей\n",
    "target = df['Type 1']\n",
    "# Создать объект бернуллиева наивного Байеса с априорными вероятностями каждого класса \n",
    "clf = BernoulliNB()\n",
    "# Натренировать модель\n",
    "model = clf.fit(features, target)\n",
    "# Создать новое наблюдение\n",
    "new_observation = [[80],[85],[90],[87],[77],[95],[82],[100],[96],[84]]\n",
    "# Предсказать класс\n",
    "model.predict(new_observation)\n",
    "print(\"Правильность на тестовом наборе: {:.2f}\".format(clf.score(features, target)))"
   ]
  },
  {
   "cell_type": "markdown",
   "metadata": {},
   "source": [
    "## 2. Метод k-ближайших соседей "
   ]
  },
  {
   "cell_type": "code",
   "execution_count": 37,
   "metadata": {},
   "outputs": [
    {
     "name": "stdout",
     "output_type": "stream",
     "text": [
      "форма массива X_new: (10, 1)\n",
      "Прогноз: ['Bug' 'Bug' 'Fighting' 'Bug' 'Fire' 'Normal' 'Bug' 'Fire' 'Normal' 'Bug']\n",
      "Правильность на тестовом наборе: 0.05\n"
     ]
    },
    {
     "name": "stderr",
     "output_type": "stream",
     "text": [
      "/home/andor/.local/lib/python3.10/site-packages/sklearn/base.py:420: UserWarning: X does not have valid feature names, but KNeighborsClassifier was fitted with feature names\n",
      "  warnings.warn(\n"
     ]
    }
   ],
   "source": [
    "from sklearn.neighbors import KNeighborsClassifier\n",
    "X_train, X_test, y_train, y_test = train_test_split(df[['MaxHP']], df['Type 1'], random_state=0)\n",
    "knn = KNeighborsClassifier(n_neighbors = 10)\n",
    "knn.fit(X_train, y_train)\n",
    "X_new = np.array([[80],[85],[90],[87],[77],[95],[82],[100],[96],[84]])\n",
    "print(\"форма массива X_new: {}\".format(X_new.shape))\n",
    "#Делаем прогноз\n",
    "prediction = knn.predict(X_new)\n",
    "print(\"Прогноз: {}\".format(prediction))\n",
    "print(\"Правильность на тестовом наборе: {:.2f}\".format(knn.score(X_test, y_test)))"
   ]
  },
  {
   "cell_type": "markdown",
   "metadata": {},
   "source": [
    "## 3. Метод опорных векторов"
   ]
  },
  {
   "cell_type": "code",
   "execution_count": 43,
   "metadata": {},
   "outputs": [
    {
     "data": {
      "image/png": "[encoded data removed]",
      "text/plain": [
       "<Figure size 640x480 with 1 Axes>"
      ]
     },
     "metadata": {},
     "output_type": "display_data"
    }
   ],
   "source": [
    "import numpy as np\n",
    "import matplotlib.pyplot as plt\n",
    "\n",
    "# Воспользуемся настройками по умолчанию библиотеки Seaborn\n",
    "import seaborn as sns\n",
    "from sklearn.preprocessing import StandardScaler \n",
    "from sklearn.svm import LinearSVC\n",
    "sns.set()\n",
    "# Загрузить данные всего с двумя классами и двумя признаками \n",
    "features = df[['MaxCP','MaxHP']]\n",
    "target = df['Type 1']\n",
    "# Стнадартизировать признаки \n",
    "scaler = StandardScaler()\n",
    "features_standardized = scaler.fit_transform(features)\n",
    "# Создать опорно-векторный классификатор \n",
    "svc = LinearSVC(C=1.0)\n",
    "# Натренировать модель\n",
    "model = svc.fit(features_standardized, target)\n",
    "\n",
    "# Вывести точки данных на график и расцветить, используя их класс \n",
    "color = [\"red\" if C == 10 else \"blue\" for C in target] \n",
    "plt.scatter(features_standardized[:,-0], features_standardized[:,1], c=color)\n",
    "\n",
    "# Создать гиперплоскость \n",
    "w = svc.coef_[0]\n",
    "a = -w[0] / w[1]\n",
    "xx = np.linspace(3, -3)\n",
    "yy = a * xx-(svc.intercept_[0]) / w[1]\n",
    "\n",
    "# Начертить гиперплоскость \n",
    "plt.plot(xx, yy)\n",
    "plt.show ()"
   ]
  },
  {
   "cell_type": "markdown",
   "metadata": {},
   "source": [
    "## 4. Деревья решений и случайные леса"
   ]
  },
  {
   "cell_type": "code",
   "execution_count": 47,
   "metadata": {},
   "outputs": [
    {
     "ename": "TypeError",
     "evalue": "'DataFrame' object is not callable",
     "output_type": "error",
     "traceback": [
      "\u001b[0;31m---------------------------------------------------------------------------\u001b[0m",
      "\u001b[0;31mTypeError\u001b[0m                                 Traceback (most recent call last)",
      "Cell \u001b[0;32mIn[47], line 7\u001b[0m\n\u001b[1;32m      3\u001b[0m \u001b[39mimport\u001b[39;00m \u001b[39mmatplotlib\u001b[39;00m\u001b[39m.\u001b[39;00m\u001b[39mpyplot\u001b[39;00m \u001b[39mas\u001b[39;00m \u001b[39mplt\u001b[39;00m\n\u001b[1;32m      4\u001b[0m \u001b[39mimport\u001b[39;00m \u001b[39mseaborn\u001b[39;00m \u001b[39mas\u001b[39;00m \u001b[39msns\u001b[39;00m; sns\u001b[39m.\u001b[39mset()\n\u001b[0;32m----> 7\u001b[0m X, y \u001b[39m=\u001b[39m df(n_samples\u001b[39m=\u001b[39;49m\u001b[39m100\u001b[39;49m, centers\u001b[39m=\u001b[39;49m\u001b[39m4\u001b[39;49m, random_state\u001b[39m=\u001b[39;49m\u001b[39m0\u001b[39;49m, cluster_std\u001b[39m=\u001b[39;49m\u001b[39m1.0\u001b[39;49m)\n\u001b[1;32m      8\u001b[0m plt\u001b[39m.\u001b[39mscatter(X[:, \u001b[39m0\u001b[39m], X[:, \u001b[39m1\u001b[39m], c\u001b[39m=\u001b[39my, s\u001b[39m=\u001b[39m\u001b[39m50\u001b[39m, cmap\u001b[39m=\u001b[39m\u001b[39m'\u001b[39m\u001b[39mrainbow\u001b[39m\u001b[39m'\u001b[39m)\n",
      "\u001b[0;31mTypeError\u001b[0m: 'DataFrame' object is not callable"
     ]
    }
   ],
   "source": [
    "%matplotlib inline\n",
    "import numpy as np\n",
    "import matplotlib.pyplot as plt\n",
    "import seaborn as sns; sns.set()\n",
    "\n",
    "\n",
    "X, y = df(n_samples=100, centers=4, random_state=0, cluster_std=1.0)\n",
    "plt.scatter(X[:, 0], X[:, 1], c=y, s=50, cmap='rainbow')"
   ]
  },
  {
   "cell_type": "markdown",
   "metadata": {},
   "source": [
    "# Задание 2. \n",
    "На наборе данных Boston Housing https://www.kaggle.com/code/prasadperera/the-boston-housing-dataset сравнить работу алгоритмов линейной регрессии, гребневой регрессии (L2 -регуляризации), лассо-регрессии (L1 регуляризации )"
   ]
  },
  {
   "cell_type": "code",
   "execution_count": null,
   "metadata": {},
   "outputs": [],
   "source": []
  },
  {
   "cell_type": "markdown",
   "metadata": {},
   "source": [
    "# Задание 3. \n",
    "Используя набор данных Breast Cancer Wisconsin (Diagnostic) Dataset https://www.kaggle.com/datasets/uciml/breast-cancer-wisconsin-data  сравнить работу алгоритмов k-средних, DBSCAN и агломеративной кластеризации"
   ]
  },
  {
   "cell_type": "code",
   "execution_count": null,
   "metadata": {},
   "outputs": [],
   "source": []
  }
 ],
 "metadata": {
  "kernelspec": {
   "display_name": "Python 3.10.6 64-bit",
   "language": "python",
   "name": "python3"
  },
  "language_info": {
   "codemirror_mode": {
    "name": "ipython",
    "version": 3
   },
   "file_extension": ".py",
   "mimetype": "text/x-python",
   "name": "python",
   "nbconvert_exporter": "python",
   "pygments_lexer": "ipython3",
   "version": "3.10.6"
  },
  "orig_nbformat": 4,
  "vscode": {
   "interpreter": {
    "hash": "916dbcbb3f70747c44a77c7bcd40155683ae19c65e1c03b4aa3499c5328201f1"
   }
  }
 },
 "nbformat": 4,
 "nbformat_minor": 2
}
